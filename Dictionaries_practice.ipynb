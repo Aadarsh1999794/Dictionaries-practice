{
 "cells": [
  {
   "cell_type": "code",
   "execution_count": 3,
   "id": "79ff7a3a",
   "metadata": {},
   "outputs": [],
   "source": [
    "dic={\n",
    "    \"Name\":\"Aadarsh\",\n",
    "    \"Age\":25,\n",
    "    \"Address\":\"Bihar india\"\n",
    "}"
   ]
  },
  {
   "cell_type": "code",
   "execution_count": 4,
   "id": "ed399907",
   "metadata": {},
   "outputs": [
    {
     "name": "stdout",
     "output_type": "stream",
     "text": [
      "<class 'dict'>\n"
     ]
    }
   ],
   "source": [
    "print(type(dic))"
   ]
  },
  {
   "cell_type": "code",
   "execution_count": 6,
   "id": "ded570cd",
   "metadata": {},
   "outputs": [
    {
     "data": {
      "text/plain": [
       "25"
      ]
     },
     "execution_count": 6,
     "metadata": {},
     "output_type": "execute_result"
    }
   ],
   "source": [
    "dic[\"Age\"]"
   ]
  },
  {
   "cell_type": "code",
   "execution_count": 9,
   "id": "dc6326ab",
   "metadata": {},
   "outputs": [],
   "source": [
    "dic[\"Name\"]=\"Govind\"\n",
    "dic[\"Age\"]=30"
   ]
  },
  {
   "cell_type": "code",
   "execution_count": 10,
   "id": "6e6a5a37",
   "metadata": {},
   "outputs": [
    {
     "name": "stdout",
     "output_type": "stream",
     "text": [
      "{'Name': 'Govind', 'Age': 30, 'Address': 'Bihar india'}\n"
     ]
    }
   ],
   "source": [
    "print(dic)"
   ]
  },
  {
   "cell_type": "code",
   "execution_count": 11,
   "id": "643d04b2",
   "metadata": {},
   "outputs": [],
   "source": [
    "dic[\"company\"]=\"Unacademy\""
   ]
  },
  {
   "cell_type": "code",
   "execution_count": 13,
   "id": "013c1ba6",
   "metadata": {},
   "outputs": [
    {
     "data": {
      "text/plain": [
       "{'Name': 'Govind', 'Age': 30, 'Address': 'Bihar india', 'company': 'Unacademy'}"
      ]
     },
     "execution_count": 13,
     "metadata": {},
     "output_type": "execute_result"
    }
   ],
   "source": [
    "dic"
   ]
  },
  {
   "cell_type": "code",
   "execution_count": 20,
   "id": "510c159d",
   "metadata": {},
   "outputs": [],
   "source": [
    "dic.update({\n",
    "    \"Name\":\"Aadarsh\",\n",
    "    \"Age\":25,\n",
    "    \"Address\":\"Bihar india\",\n",
    "    \"company\":\"Tata technologies\"\n",
    "})"
   ]
  },
  {
   "cell_type": "code",
   "execution_count": 21,
   "id": "8d9bb06e",
   "metadata": {},
   "outputs": [
    {
     "data": {
      "text/plain": [
       "{'Name': 'Aadarsh',\n",
       " 'Age': 25,\n",
       " 'Address': 'Bihar india',\n",
       " 'company': 'Tata technologies',\n",
       " 'Company': 'Tata technologies'}"
      ]
     },
     "execution_count": 21,
     "metadata": {},
     "output_type": "execute_result"
    }
   ],
   "source": [
    "dic"
   ]
  },
  {
   "cell_type": "code",
   "execution_count": 24,
   "id": "5936e85b",
   "metadata": {},
   "outputs": [
    {
     "data": {
      "text/plain": [
       "'Tata technologies'"
      ]
     },
     "execution_count": 24,
     "metadata": {},
     "output_type": "execute_result"
    }
   ],
   "source": [
    "dic.pop(\"company\")"
   ]
  },
  {
   "cell_type": "code",
   "execution_count": 25,
   "id": "cd8c3e59",
   "metadata": {},
   "outputs": [
    {
     "data": {
      "text/plain": [
       "{'Name': 'Aadarsh',\n",
       " 'Age': 25,\n",
       " 'Address': 'Bihar india',\n",
       " 'Company': 'Tata technologies'}"
      ]
     },
     "execution_count": 25,
     "metadata": {},
     "output_type": "execute_result"
    }
   ],
   "source": [
    "dic"
   ]
  },
  {
   "cell_type": "code",
   "execution_count": 26,
   "id": "dd0755d2",
   "metadata": {},
   "outputs": [
    {
     "name": "stdout",
     "output_type": "stream",
     "text": [
      "Name\n",
      "Age\n",
      "Address\n",
      "Company\n"
     ]
    }
   ],
   "source": [
    "for i in dic:\n",
    "    print(i)"
   ]
  },
  {
   "cell_type": "code",
   "execution_count": 33,
   "id": "0863d4a0",
   "metadata": {},
   "outputs": [
    {
     "name": "stdout",
     "output_type": "stream",
     "text": [
      "Name-->Aadarsh\n",
      "Age-->25\n",
      "Address-->Bihar india\n",
      "Company-->Tata technologies\n"
     ]
    }
   ],
   "source": [
    "for i in dic:\n",
    "    print(str(i)+\"-->\"+str(dic[i]))"
   ]
  },
  {
   "cell_type": "code",
   "execution_count": 37,
   "id": "04393ed1",
   "metadata": {},
   "outputs": [
    {
     "name": "stdout",
     "output_type": "stream",
     "text": [
      "Name ==> Aadarsh\n",
      "Age ==> 25\n",
      "Address ==> Bihar india\n",
      "Company ==> Tata technologies\n"
     ]
    }
   ],
   "source": [
    "for i in dic:\n",
    "    print(f\"{i} ==> {dic[i]}\")"
   ]
  },
  {
   "cell_type": "code",
   "execution_count": 61,
   "id": "f4850931",
   "metadata": {},
   "outputs": [
    {
     "data": {
      "text/plain": [
       "dict_keys(['Name', 'Age', 'Address', 'Company'])"
      ]
     },
     "execution_count": 61,
     "metadata": {},
     "output_type": "execute_result"
    }
   ],
   "source": [
    "a.keys()"
   ]
  },
  {
   "cell_type": "code",
   "execution_count": 62,
   "id": "3cbd5576",
   "metadata": {},
   "outputs": [
    {
     "data": {
      "text/plain": [
       "dict_values(['Aadarsh', 25, 'Bihar india', 'Tata technologies'])"
      ]
     },
     "execution_count": 62,
     "metadata": {},
     "output_type": "execute_result"
    }
   ],
   "source": [
    "a.values()"
   ]
  },
  {
   "cell_type": "code",
   "execution_count": 63,
   "id": "7af8262e",
   "metadata": {},
   "outputs": [
    {
     "data": {
      "text/plain": [
       "dict_items([('Name', 'Aadarsh'), ('Age', 25), ('Address', 'Bihar india'), ('Company', 'Tata technologies')])"
      ]
     },
     "execution_count": 63,
     "metadata": {},
     "output_type": "execute_result"
    }
   ],
   "source": [
    "a.items()"
   ]
  },
  {
   "cell_type": "code",
   "execution_count": 64,
   "id": "d38b1393",
   "metadata": {},
   "outputs": [
    {
     "name": "stdout",
     "output_type": "stream",
     "text": [
      "Name ==> Aadarsh\n",
      "Age ==> 25\n",
      "Address ==> Bihar india\n",
      "Company ==> Tata technologies\n"
     ]
    }
   ],
   "source": [
    "for keys,values in a.items():\n",
    "    print(f\"{keys} ==> {values}\")"
   ]
  },
  {
   "cell_type": "code",
   "execution_count": 48,
   "id": "4e453fae",
   "metadata": {},
   "outputs": [
    {
     "data": {
      "text/plain": [
       "True"
      ]
     },
     "execution_count": 48,
     "metadata": {},
     "output_type": "execute_result"
    }
   ],
   "source": [
    "\"Age\" in dic.keys()"
   ]
  },
  {
   "cell_type": "code",
   "execution_count": 65,
   "id": "8880f31b",
   "metadata": {},
   "outputs": [
    {
     "data": {
      "text/plain": [
       "False"
      ]
     },
     "execution_count": 65,
     "metadata": {},
     "output_type": "execute_result"
    }
   ],
   "source": [
    "\"ababa\" in dic.keys()"
   ]
  },
  {
   "cell_type": "code",
   "execution_count": 66,
   "id": "5eaa9bb4",
   "metadata": {},
   "outputs": [
    {
     "data": {
      "text/plain": [
       "dict"
      ]
     },
     "execution_count": 66,
     "metadata": {},
     "output_type": "execute_result"
    }
   ],
   "source": [
    "result={}\n",
    "type(result)"
   ]
  },
  {
   "cell_type": "code",
   "execution_count": 67,
   "id": "27fa5dc2",
   "metadata": {},
   "outputs": [
    {
     "data": {
      "text/plain": [
       "{}"
      ]
     },
     "execution_count": 67,
     "metadata": {},
     "output_type": "execute_result"
    }
   ],
   "source": [
    "dic"
   ]
  },
  {
   "cell_type": "code",
   "execution_count": 70,
   "id": "a0590a5b",
   "metadata": {},
   "outputs": [],
   "source": [
    "b={'Name': 'Dhoni', 'Age': 42, 'Address': 'Bihar india', 'Team': 'CSK', \"Run-Scored\": 5178}"
   ]
  },
  {
   "cell_type": "code",
   "execution_count": 71,
   "id": "a1ea196f",
   "metadata": {},
   "outputs": [
    {
     "data": {
      "text/plain": [
       "{'Name': 'Dhoni',\n",
       " 'Age': 42,\n",
       " 'Address': 'Bihar india',\n",
       " 'Team': 'CSK',\n",
       " 'Run-Scored': 5178}"
      ]
     },
     "execution_count": 71,
     "metadata": {},
     "output_type": "execute_result"
    }
   ],
   "source": [
    "b"
   ]
  },
  {
   "cell_type": "code",
   "execution_count": 74,
   "id": "983b53fd",
   "metadata": {},
   "outputs": [
    {
     "data": {
      "text/plain": [
       "dict_items([('Name', 'Dhoni'), ('Age', 42), ('Address', 'Bihar india'), ('Team', 'CSK'), ('Run-Scored', 5178)])"
      ]
     },
     "execution_count": 74,
     "metadata": {},
     "output_type": "execute_result"
    }
   ],
   "source": [
    "b.items()"
   ]
  },
  {
   "cell_type": "code",
   "execution_count": 75,
   "id": "3d9b5f70",
   "metadata": {},
   "outputs": [],
   "source": [
    "x=b.items()"
   ]
  },
  {
   "cell_type": "code",
   "execution_count": 82,
   "id": "f33a0930",
   "metadata": {},
   "outputs": [
    {
     "name": "stdout",
     "output_type": "stream",
     "text": [
      "Name\n",
      "Age\n",
      "Address\n",
      "Team\n",
      "Run-Scored\n"
     ]
    }
   ],
   "source": [
    "for key in b.keys():\n",
    "    print(key)"
   ]
  },
  {
   "cell_type": "code",
   "execution_count": 83,
   "id": "7d8869f1",
   "metadata": {},
   "outputs": [
    {
     "name": "stdout",
     "output_type": "stream",
     "text": [
      "Dhoni\n",
      "42\n",
      "Bihar india\n",
      "CSK\n",
      "5178\n"
     ]
    }
   ],
   "source": [
    "for value in b.values():\n",
    "    print(value)"
   ]
  },
  {
   "cell_type": "code",
   "execution_count": 84,
   "id": "244e047f",
   "metadata": {},
   "outputs": [
    {
     "name": "stdout",
     "output_type": "stream",
     "text": [
      "Name : Dhoni\n",
      "Age : 42\n",
      "Address : Bihar india\n",
      "Team : CSK\n",
      "Run-Scored : 5178\n"
     ]
    }
   ],
   "source": [
    "for key,value in b.items():\n",
    "    print(f\"{key} : {value}\")"
   ]
  },
  {
   "cell_type": "code",
   "execution_count": null,
   "id": "4c5edb89",
   "metadata": {},
   "outputs": [],
   "source": []
  }
 ],
 "metadata": {
  "kernelspec": {
   "display_name": "Python 3 (ipykernel)",
   "language": "python",
   "name": "python3"
  },
  "language_info": {
   "codemirror_mode": {
    "name": "ipython",
    "version": 3
   },
   "file_extension": ".py",
   "mimetype": "text/x-python",
   "name": "python",
   "nbconvert_exporter": "python",
   "pygments_lexer": "ipython3",
   "version": "3.9.12"
  }
 },
 "nbformat": 4,
 "nbformat_minor": 5
}
